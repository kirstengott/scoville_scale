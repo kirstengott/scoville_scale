{
 "cells": [
  {
   "cell_type": "markdown",
   "metadata": {},
   "source": [
    "# Scraping Scovilles\n",
    "\n",
    "\n",
    "Here I will be scraping the scoville data found here: http://www.scottrobertsweb.com/scoville-scale/\n",
    "\n",
    "I need to find the HTML tags in the table that correspond to the columns 'Sauce/Pepper' and 'Scoville Units'"
   ]
  },
  {
   "cell_type": "code",
   "execution_count": 11,
   "metadata": {
    "collapsed": true
   },
   "outputs": [
    {
     "name": "stderr",
     "output_type": "stream",
     "text": [
      "/usr/local/lib/python3.6/site-packages/bs4/__init__.py:181: UserWarning: No parser was explicitly specified, so I'm using the best available HTML parser for this system (\"html5lib\"). This usually isn't a problem, but if you run this code on another system, or in a different virtual environment, it may use a different parser and behave differently.\n",
      "\n",
      "The code that caused this warning is on line 193 of the file /usr/local/Cellar/python3/3.6.3/Frameworks/Python.framework/Versions/3.6/lib/python3.6/runpy.py. To get rid of this warning, change code that looks like this:\n",
      "\n",
      " BeautifulSoup(YOUR_MARKUP})\n",
      "\n",
      "to this:\n",
      "\n",
      " BeautifulSoup(YOUR_MARKUP, \"html5lib\")\n",
      "\n",
      "  markup_type=markup_type))\n"
     ]
    }
   ],
   "source": [
    "import urllib.request\n",
    "from bs4 import BeautifulSoup\n",
    "\n",
    "\n",
    "\n",
    "web_page = \"http://www.scottrobertsweb.com/scoville-scale/\"\n",
    "\n",
    "page = urllib.request.urlopen(web_page)\n",
    "soup = BeautifulSoup(page)\n",
    "\n",
    "#print(soup.prettify())"
   ]
  },
  {
   "cell_type": "code",
   "execution_count": 12,
   "metadata": {
    "collapsed": true
   },
   "outputs": [],
   "source": [
    "## easy enough, beautiful soup has a way to directly pull out the html for tables\n",
    "table = soup.table\n",
    "## printing the table is too much space for github, but it's how I found the elements to select\n",
    "## print(table)"
   ]
  },
  {
   "cell_type": "code",
   "execution_count": 13,
   "metadata": {
    "collapsed": true
   },
   "outputs": [],
   "source": [
    "## this searches through the table for the 'tr' tags with a 'bgcolor' of #efefef\n",
    "for row in table.find_all('tr', bgcolor=\"#efefef\"):\n",
    "    td = row.find_all('td', class_ = \"sauce\")\n",
    "    #print(td)"
   ]
  },
  {
   "cell_type": "code",
   "execution_count": 14,
   "metadata": {
    "collapsed": true
   },
   "outputs": [
    {
     "name": "stdout",
     "output_type": "stream",
     "text": [
      "[['Blair’s 16 Million Reserve', '16,000,000', '3200 times'], ['Blair’s 6 A.M.', '16,000,000', '3200 times'], ['Blair’s 2009 Halloween Reserve', '16,000,000', '3200 times'], ['Blair’s 2005 Holiday Reserve', '14,725,000', '2945 times'], ['Meaty Vegan’s Experiment 1064', '14,200,000', '2840 times']]\n"
     ]
    }
   ],
   "source": [
    "df_rows = []\n",
    "## building off of the previous block, I want to pull out the three columns of interest\n",
    "## and put them in a list called 'df_rows'\n",
    "for row in table.find_all('tr', bgcolor=\"#efefef\"):\n",
    "    cols       = row.find_all('b') # column one, two, three\n",
    "    text_cols  = [x.find(text = True) for x in cols]\n",
    "    df_rows.append(text_cols)\n",
    "\n",
    "print(df_rows[0:5]) # look at the list\n"
   ]
  },
  {
   "cell_type": "markdown",
   "metadata": {},
   "source": [
    "I need to make scoville and jalapeno_comp numeric. \n",
    "\n",
    "This could be weird, since some of the scovilles have ranges. I'll just make them an array in the data table. I also need to remove question marks.\n",
    "\n",
    "For jalapeno comp I need to remove the 'times' and change the percents to decimals.\n",
    "\n",
    "I'm not sure how to do either in python, let alone pandas but I will try.\n"
   ]
  },
  {
   "cell_type": "code",
   "execution_count": 15,
   "metadata": {},
   "outputs": [],
   "source": [
    "import re\n",
    "\n",
    "df_rows_fix = []\n",
    "\n",
    "for x in df_rows: \n",
    "    ## fix the third entry in the list to remove the times and % characters, and make it a float\n",
    "    if len(x) == 3:\n",
    "        if x[2].endswith(' times'):\n",
    "            x2 = float(re.sub(' times$', '', x[2]))\n",
    "        if x[2].endswith(\"%\"):\n",
    "            x_temp = re.sub('%$', '', x[2])\n",
    "            x2     = float(\"0.\" + x_temp) # convert the percentage to a factor of jalapeno heat\n",
    "            \n",
    "    else:\n",
    "        x2 = 0 # jalapeno reference point\n",
    "    \n",
    "    ## fix the second entry in the list to remove the ranges\n",
    "    \n",
    "    x1_comma    = re.sub(',', '', x[1])    \n",
    "    multi_words = re.findall('[0-9]+', x1_comma)\n",
    "\n",
    "    if len(multi_words) > 1:\n",
    "        scoville_start = int(multi_words[0])\n",
    "        scoville_end   = int(multi_words[len(multi_words)-1])\n",
    "        x1 = str(scoville_start) + \"_\" + str(scoville_end)\n",
    "    else:\n",
    "        x1 = multi_words[0] + \"_\" + multi_words[0]\n",
    "    \n",
    "    ## append the list to the new list of rows\n",
    "    df_rows_fix.append([x[0], x1, x2])\n",
    "    "
   ]
  },
  {
   "cell_type": "code",
   "execution_count": 16,
   "metadata": {
    "collapsed": true
   },
   "outputs": [
    {
     "data": {
      "text/html": [
       "<div>\n",
       "<style>\n",
       "    .dataframe thead tr:only-child th {\n",
       "        text-align: right;\n",
       "    }\n",
       "\n",
       "    .dataframe thead th {\n",
       "        text-align: left;\n",
       "    }\n",
       "\n",
       "    .dataframe tbody tr th {\n",
       "        vertical-align: top;\n",
       "    }\n",
       "</style>\n",
       "<table border=\"1\" class=\"dataframe\">\n",
       "  <thead>\n",
       "    <tr style=\"text-align: right;\">\n",
       "      <th></th>\n",
       "      <th>name</th>\n",
       "      <th>scoville</th>\n",
       "      <th>jalapeno_comp</th>\n",
       "    </tr>\n",
       "  </thead>\n",
       "  <tbody>\n",
       "    <tr>\n",
       "      <th>0</th>\n",
       "      <td>Blair’s 16 Million Reserve</td>\n",
       "      <td>16000000_16000000</td>\n",
       "      <td>3200.0</td>\n",
       "    </tr>\n",
       "    <tr>\n",
       "      <th>1</th>\n",
       "      <td>Blair’s 6 A.M.</td>\n",
       "      <td>16000000_16000000</td>\n",
       "      <td>3200.0</td>\n",
       "    </tr>\n",
       "    <tr>\n",
       "      <th>2</th>\n",
       "      <td>Blair’s 2009 Halloween Reserve</td>\n",
       "      <td>16000000_16000000</td>\n",
       "      <td>3200.0</td>\n",
       "    </tr>\n",
       "    <tr>\n",
       "      <th>3</th>\n",
       "      <td>Blair’s 2005 Holiday Reserve</td>\n",
       "      <td>14725000_14725000</td>\n",
       "      <td>2945.0</td>\n",
       "    </tr>\n",
       "    <tr>\n",
       "      <th>4</th>\n",
       "      <td>Meaty Vegan’s Experiment 1064</td>\n",
       "      <td>14200000_14200000</td>\n",
       "      <td>2840.0</td>\n",
       "    </tr>\n",
       "    <tr>\n",
       "      <th>5</th>\n",
       "      <td>Blair’s 2004 Holiday Reserve</td>\n",
       "      <td>14100000_14100000</td>\n",
       "      <td>2820.0</td>\n",
       "    </tr>\n",
       "    <tr>\n",
       "      <th>6</th>\n",
       "      <td>Blair’s 2006 Holiday Reserve</td>\n",
       "      <td>14000000_14000000</td>\n",
       "      <td>2800.0</td>\n",
       "    </tr>\n",
       "    <tr>\n",
       "      <th>7</th>\n",
       "      <td>Blair’s 2005 Halloween Reserve</td>\n",
       "      <td>13500000_13500000</td>\n",
       "      <td>2700.0</td>\n",
       "    </tr>\n",
       "    <tr>\n",
       "      <th>8</th>\n",
       "      <td>Blair’s 2007 Halloween Reserve</td>\n",
       "      <td>13500000_13500000</td>\n",
       "      <td>2700.0</td>\n",
       "    </tr>\n",
       "    <tr>\n",
       "      <th>9</th>\n",
       "      <td>Blair’s 2006 Halloween Reserve</td>\n",
       "      <td>13500000_13500000</td>\n",
       "      <td>2700.0</td>\n",
       "    </tr>\n",
       "  </tbody>\n",
       "</table>\n",
       "</div>"
      ],
      "text/plain": [
       "                             name           scoville  jalapeno_comp\n",
       "0      Blair’s 16 Million Reserve  16000000_16000000         3200.0\n",
       "1                  Blair’s 6 A.M.  16000000_16000000         3200.0\n",
       "2  Blair’s 2009 Halloween Reserve  16000000_16000000         3200.0\n",
       "3    Blair’s 2005 Holiday Reserve  14725000_14725000         2945.0\n",
       "4   Meaty Vegan’s Experiment 1064  14200000_14200000         2840.0\n",
       "5    Blair’s 2004 Holiday Reserve  14100000_14100000         2820.0\n",
       "6    Blair’s 2006 Holiday Reserve  14000000_14000000         2800.0\n",
       "7  Blair’s 2005 Halloween Reserve  13500000_13500000         2700.0\n",
       "8  Blair’s 2007 Halloween Reserve  13500000_13500000         2700.0\n",
       "9  Blair’s 2006 Halloween Reserve  13500000_13500000         2700.0"
      ]
     },
     "execution_count": 16,
     "metadata": {},
     "output_type": "execute_result"
    }
   ],
   "source": [
    "\n",
    "import pandas as pd\n",
    "## turn it all into a data frame\n",
    "df = pd.DataFrame([x for x in df_rows_fix], columns=['name', 'scoville', 'jalapeno_comp'])\n",
    "\n",
    "df.head(10)\n",
    "\n"
   ]
  },
  {
   "cell_type": "code",
   "execution_count": 17,
   "metadata": {
    "collapsed": true
   },
   "outputs": [
    {
     "data": {
      "text/html": [
       "<div>\n",
       "<style>\n",
       "    .dataframe thead tr:only-child th {\n",
       "        text-align: right;\n",
       "    }\n",
       "\n",
       "    .dataframe thead th {\n",
       "        text-align: left;\n",
       "    }\n",
       "\n",
       "    .dataframe tbody tr th {\n",
       "        vertical-align: top;\n",
       "    }\n",
       "</style>\n",
       "<table border=\"1\" class=\"dataframe\">\n",
       "  <thead>\n",
       "    <tr style=\"text-align: right;\">\n",
       "      <th></th>\n",
       "      <th>jalapeno_comp</th>\n",
       "    </tr>\n",
       "  </thead>\n",
       "  <tbody>\n",
       "    <tr>\n",
       "      <th>count</th>\n",
       "      <td>220.000000</td>\n",
       "    </tr>\n",
       "    <tr>\n",
       "      <th>mean</th>\n",
       "      <td>267.416864</td>\n",
       "    </tr>\n",
       "    <tr>\n",
       "      <th>std</th>\n",
       "      <td>658.374576</td>\n",
       "    </tr>\n",
       "    <tr>\n",
       "      <th>min</th>\n",
       "      <td>0.000000</td>\n",
       "    </tr>\n",
       "    <tr>\n",
       "      <th>25%</th>\n",
       "      <td>0.900000</td>\n",
       "    </tr>\n",
       "    <tr>\n",
       "      <th>50%</th>\n",
       "      <td>20.000000</td>\n",
       "    </tr>\n",
       "    <tr>\n",
       "      <th>75%</th>\n",
       "      <td>183.500000</td>\n",
       "    </tr>\n",
       "    <tr>\n",
       "      <th>max</th>\n",
       "      <td>3200.000000</td>\n",
       "    </tr>\n",
       "  </tbody>\n",
       "</table>\n",
       "</div>"
      ],
      "text/plain": [
       "       jalapeno_comp\n",
       "count     220.000000\n",
       "mean      267.416864\n",
       "std       658.374576\n",
       "min         0.000000\n",
       "25%         0.900000\n",
       "50%        20.000000\n",
       "75%       183.500000\n",
       "max      3200.000000"
      ]
     },
     "execution_count": 17,
     "metadata": {},
     "output_type": "execute_result"
    }
   ],
   "source": [
    "df.describe()"
   ]
  },
  {
   "cell_type": "code",
   "execution_count": 18,
   "metadata": {},
   "outputs": [],
   "source": [
    "\n",
    "## export the table to a csv\n",
    "df.to_csv(path_or_buf='scoville.csv', index=False)"
   ]
  }
 ],
 "metadata": {
  "celltoolbar": "Edit Metadata",
  "kernelspec": {
   "display_name": "Python 3",
   "language": "python",
   "name": "python3"
  },
  "language_info": {
   "codemirror_mode": {
    "name": "ipython",
    "version": 3
   },
   "file_extension": ".py",
   "mimetype": "text/x-python",
   "name": "python",
   "nbconvert_exporter": "python",
   "pygments_lexer": "ipython3",
   "version": "3.6.3"
  }
 },
 "nbformat": 4,
 "nbformat_minor": 2
}
